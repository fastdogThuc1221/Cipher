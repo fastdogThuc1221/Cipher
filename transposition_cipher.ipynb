{
  "nbformat": 4,
  "nbformat_minor": 0,
  "metadata": {
    "colab": {
      "name": "transposition_cipher.ipynb",
      "version": "0.3.2",
      "provenance": [],
      "toc_visible": true
    },
    "kernelspec": {
      "name": "python3",
      "display_name": "Python 3"
    }
  },
  "cells": [
    {
      "metadata": {
        "id": "zpV89yoRdk0_",
        "colab_type": "text"
      },
      "cell_type": "markdown",
      "source": [
        "# Encryption"
      ]
    },
    {
      "metadata": {
        "id": "ubS8vamJGGbD",
        "colab_type": "code",
        "outputId": "5cd1eaa0-207b-4e92-fa90-d6f31a0e8cde",
        "colab": {
          "base_uri": "https://localhost:8080/",
          "height": 35
        }
      },
      "cell_type": "code",
      "source": [
        "key = 4\n",
        "plain_text = 'I love my awesome mamma.'\n",
        "print(len(plain_text))"
      ],
      "execution_count": 0,
      "outputs": [
        {
          "output_type": "stream",
          "text": [
            "24\n"
          ],
          "name": "stdout"
        }
      ]
    },
    {
      "metadata": {
        "id": "aYiCQzboLVCp",
        "colab_type": "code",
        "outputId": "03141e87-de90-442c-a63a-527456cc06e3",
        "colab": {
          "base_uri": "https://localhost:8080/",
          "height": 35
        }
      },
      "cell_type": "code",
      "source": [
        "def extract_column (plain_text, column, key):\n",
        "  index = column\n",
        "  length = len(plain_text)\n",
        "  column_text = ''\n",
        "  while index < length:\n",
        "      column_text = column_text + plain_text[index]\n",
        "      index = index + key\n",
        "  return column_text\n",
        "\n",
        "print(extract_column(plain_text, 0, key))"
      ],
      "execution_count": 0,
      "outputs": [
        {
          "output_type": "stream",
          "text": [
            "Ivyeem\n"
          ],
          "name": "stdout"
        }
      ]
    },
    {
      "metadata": {
        "id": "cV0on0wmN67P",
        "colab_type": "code",
        "colab": {}
      },
      "cell_type": "code",
      "source": [
        "def extract_all_columns(plain_text,key):\n",
        "  columns = []\n",
        "  for i in range(key):\n",
        "    column = extract_column(plain_text,i,key)\n",
        "    columns.append(column)\n",
        "  return columns"
      ],
      "execution_count": 0,
      "outputs": []
    },
    {
      "metadata": {
        "id": "ArN5DxcrPtUQ",
        "colab_type": "code",
        "outputId": "60874d43-d963-416e-dfd4-4487bbf92ced",
        "colab": {
          "base_uri": "https://localhost:8080/",
          "height": 35
        }
      },
      "cell_type": "code",
      "source": [
        "columns = extract_all_columns(plain_text, key)\n",
        "cipher_text = ''.join(columns)\n",
        "print(cipher_text)"
      ],
      "execution_count": 0,
      "outputs": [
        {
          "output_type": "stream",
          "text": [
            "Ivyeem e s ml aomaomwma.\n"
          ],
          "name": "stdout"
        }
      ]
    },
    {
      "metadata": {
        "id": "PF7EU0b85b6J",
        "colab_type": "code",
        "outputId": "8d0379ce-d0a2-42b1-ec17-fed0e48c4213",
        "colab": {
          "base_uri": "https://localhost:8080/",
          "height": 35
        }
      },
      "cell_type": "code",
      "source": [
        "print(cipher_text)"
      ],
      "execution_count": 0,
      "outputs": [
        {
          "output_type": "stream",
          "text": [
            "Ivyeem e s ml aomaomwma.\n"
          ],
          "name": "stdout"
        }
      ]
    },
    {
      "metadata": {
        "id": "_n7rME8k7Y_q",
        "colab_type": "code",
        "outputId": "aa99cb0c-2dbc-4921-aa1a-be82d8969242",
        "colab": {
          "base_uri": "https://localhost:8080/",
          "height": 35
        }
      },
      "cell_type": "code",
      "source": [
        "int(3.1)"
      ],
      "execution_count": 0,
      "outputs": [
        {
          "output_type": "execute_result",
          "data": {
            "text/plain": [
              "3"
            ]
          },
          "metadata": {
            "tags": []
          },
          "execution_count": 55
        }
      ]
    },
    {
      "metadata": {
        "id": "N-nMPkycdqQr",
        "colab_type": "text"
      },
      "cell_type": "markdown",
      "source": [
        "# Decryption"
      ]
    },
    {
      "metadata": {
        "id": "vYbcvYoo6GUA",
        "colab_type": "code",
        "outputId": "00b60683-010b-4ab9-95f5-83ad425c67c8",
        "colab": {
          "base_uri": "https://localhost:8080/",
          "height": 35
        }
      },
      "cell_type": "code",
      "source": [
        "import math\n",
        "number_columns = int(math.ceil(len(cipher_text) / key))\n",
        "print(number_columns)"
      ],
      "execution_count": 0,
      "outputs": [
        {
          "output_type": "stream",
          "text": [
            "6\n"
          ],
          "name": "stdout"
        }
      ]
    },
    {
      "metadata": {
        "id": "iKD2QisS6hCI",
        "colab_type": "code",
        "outputId": "3f496a14-2318-41aa-f9e5-e085e84c2554",
        "colab": {
          "base_uri": "https://localhost:8080/",
          "height": 35
        }
      },
      "cell_type": "code",
      "source": [
        "columns = extract_all_columns(cipher_text, number_columns)\n",
        "decrypted_text = ''.join(columns)\n",
        "print(decrypted_text)"
      ],
      "execution_count": 0,
      "outputs": [
        {
          "output_type": "stream",
          "text": [
            "I love my awesome mamma.\n"
          ],
          "name": "stdout"
        }
      ]
    },
    {
      "metadata": {
        "id": "g62e7Yo0dgPl",
        "colab_type": "text"
      },
      "cell_type": "markdown",
      "source": [
        "# Automated Testing"
      ]
    },
    {
      "metadata": {
        "id": "QNFPXXwTdut7",
        "colab_type": "code",
        "colab": {}
      },
      "cell_type": "code",
      "source": [
        "def encrypt_transposition(plain_text, key):\n",
        "  \"\"\"Returns cipher text\"\"\"\n",
        "  columns = extract_all_columns(plain_text, key)\n",
        "  cipher_text = ''.join(columns)\n",
        "  return cipher_text\n",
        "\n",
        "def decrypt_transposition(cipher_text, key):\n",
        "  number_columns = int(math.ceil(len(cipher_text) / key))\n",
        "  columns = extract_all_columns(cipher_text, number_columns)\n",
        "  decrypted_text = ''.join(columns)\n",
        "  return decrypted_text\n",
        "\n",
        "def test_transposition(plain_text, key):\n",
        "  cipher_text = encrypt_transposition(plain_text, key)\n",
        "  actual_text = decrypt_transposition(cipher_text, key)\n",
        "  if plain_text == actual_text:\n",
        "    print(\"PASSED: Key: %s. actual_text: %s.\" % (key, actual_text))\n",
        "  else:\n",
        "    print(\"FAILED: Key: %s. Plain text: %s. cipher_text %s actual_text %s\" % (key, plain_text, cipher_text, actual_text))"
      ],
      "execution_count": 0,
      "outputs": []
    },
    {
      "metadata": {
        "id": "z5p87rP5fv64",
        "colab_type": "code",
        "outputId": "adb2f989-f6ee-4d2c-f975-922ec53aa649",
        "colab": {
          "base_uri": "https://localhost:8080/",
          "height": 35
        }
      },
      "cell_type": "code",
      "source": [
        "test_transposition('Today is Monday, yay yay, blah blah.', 9)"
      ],
      "execution_count": 0,
      "outputs": [
        {
          "output_type": "stream",
          "text": [
            "PASSED: Key: 9. actual_text: Today is Monday, yay yay, blah blah..\n"
          ],
          "name": "stdout"
        }
      ]
    },
    {
      "metadata": {
        "id": "hEY_0jkZikqN",
        "colab_type": "code",
        "outputId": "682bae84-6b0c-47bd-f6b1-e5526f78746f",
        "colab": {
          "base_uri": "https://localhost:8080/",
          "height": 454
        }
      },
      "cell_type": "code",
      "source": [
        "test_text = 'I love my awesome mamma.'\n",
        "for i in range(len(test_text)):\n",
        "  test_transposition(test_text, i + 1)\n",
        "  "
      ],
      "execution_count": 0,
      "outputs": [
        {
          "output_type": "stream",
          "text": [
            "PASSED: Key: 1. actual_text: I love my awesome mamma..\n",
            "PASSED: Key: 2. actual_text: I love my awesome mamma..\n",
            "PASSED: Key: 3. actual_text: I love my awesome mamma..\n",
            "PASSED: Key: 4. actual_text: I love my awesome mamma..\n",
            "PASSED: Key: 5. actual_text: I love my awesome mamma..\n",
            "PASSED: Key: 6. actual_text: I love my awesome mamma..\n",
            "FAILED: Key: 7. Plain text: I love my awesome mamma.. cipher_text Imom ymal e.oa vwmeea sm actual_text I lowamy am ome esma.vem\n",
            "PASSED: Key: 8. actual_text: I love my awesome mamma..\n",
            "FAILED: Key: 9. Plain text: I love my awesome mamma.. cipher_text I m aalwmoemvsaeo. mmey  actual_text I love e awesomymamma.m \n",
            "FAILED: Key: 10. Plain text: I love my awesome mamma.. cipher_text Iam wmleaos.voem em ym a actual_text I lovmmmaweso   mma.eeya\n",
            "FAILED: Key: 11. Plain text: I love my awesome mamma.. cipher_text Iwa e.lsoovmee  mmya mam actual_text I loe ymwesvemaaa.om m m\n",
            "PASSED: Key: 12. actual_text: I love my awesome mamma..\n",
            "FAILED: Key: 13. Plain text: I love my awesome mamma.. cipher_text Is olmoev em ammym aa.we actual_text I love my awsome mamma.e\n",
            "FAILED: Key: 14. Plain text: I love my awesome mamma.. cipher_text Io mleo vmea mmmya .awes actual_text I love my aeome mamma.ws\n",
            "FAILED: Key: 15. Plain text: I love my awesome mamma.. cipher_text Im el omvaem mmay. aweso actual_text I love my wsme mamma.aeo\n",
            "FAILED: Key: 16. Plain text: I love my awesome mamma.. cipher_text Ie  lmoavmem am.y awesom actual_text I love myaeoe mamma. wsm\n",
            "FAILED: Key: 17. Plain text: I love my awesome mamma.. cipher_text I  mlaomvmea .my awesome actual_text I love m wsm mamma.yaeoe\n",
            "FAILED: Key: 18. Plain text: I love my awesome mamma.. cipher_text Im almomvae. my awesome  actual_text I love yaeoemamma.m wsm \n",
            "FAILED: Key: 19. Plain text: I love my awesome mamma.. cipher_text Ia mlmoav.e my awesome m actual_text I lovem wsm amma. yaeoem\n",
            "FAILED: Key: 20. Plain text: I love my awesome mamma.. cipher_text Im mlao.ve my awesome ma actual_text I lov yaeoemmma.em wsm a\n",
            "FAILED: Key: 21. Plain text: I love my awesome mamma.. cipher_text Im al.ove my awesome mam actual_text I loem wsm ama.v yaeoemm\n",
            "FAILED: Key: 22. Plain text: I love my awesome mamma.. cipher_text Ia .love my awesome mamm actual_text I lv yaeoemma.oem wsm am\n",
            "FAILED: Key: 23. Plain text: I love my awesome mamma.. cipher_text I. love my awesome mamma actual_text I oem wsm am.lv yaeoemma\n",
            "PASSED: Key: 24. actual_text: I love my awesome mamma..\n"
          ],
          "name": "stdout"
        }
      ]
    }
  ]
}